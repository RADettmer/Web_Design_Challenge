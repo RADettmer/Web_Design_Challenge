{
 "cells": [
  {
   "cell_type": "code",
   "execution_count": 1,
   "metadata": {},
   "outputs": [],
   "source": [
    "#import dependencies - convert data in csv file into html file -- Randy Dettmer 2020/04/15\n",
    "import pandas as pd"
   ]
  },
  {
   "cell_type": "code",
   "execution_count": 2,
   "metadata": {},
   "outputs": [
    {
     "output_type": "execute_result",
     "data": {
      "text/plain": [
       "            City Country  Latitude  Longitude  Max Temp(F)  Humidity(%)  \\\n",
       "0  Srednekolymsk      RU     67.45     153.68        -9.78         88.0   \n",
       "1      Severnoye      RU     56.35      78.36        33.04         86.0   \n",
       "2    Port Alfred      ZA    -33.59      26.89        63.00         97.0   \n",
       "3      Cape Town      ZA    -33.93      18.42        64.99         63.0   \n",
       "4            Bud      NO     39.45     -86.18        46.00         83.0   \n",
       "\n",
       "   Cloudiness(%)  Wind Speed(MPH)          Date  \n",
       "0            0.0             3.02  1.584312e+09  \n",
       "1          100.0            21.41  1.584312e+09  \n",
       "2          100.0             3.00  1.584312e+09  \n",
       "3           20.0            20.80  1.584312e+09  \n",
       "4           90.0             9.17  1.584312e+09  "
      ],
      "text/html": "<div>\n<style scoped>\n    .dataframe tbody tr th:only-of-type {\n        vertical-align: middle;\n    }\n\n    .dataframe tbody tr th {\n        vertical-align: top;\n    }\n\n    .dataframe thead th {\n        text-align: right;\n    }\n</style>\n<table border=\"1\" class=\"dataframe\">\n  <thead>\n    <tr style=\"text-align: right;\">\n      <th></th>\n      <th>City</th>\n      <th>Country</th>\n      <th>Latitude</th>\n      <th>Longitude</th>\n      <th>Max Temp(F)</th>\n      <th>Humidity(%)</th>\n      <th>Cloudiness(%)</th>\n      <th>Wind Speed(MPH)</th>\n      <th>Date</th>\n    </tr>\n  </thead>\n  <tbody>\n    <tr>\n      <th>0</th>\n      <td>Srednekolymsk</td>\n      <td>RU</td>\n      <td>67.45</td>\n      <td>153.68</td>\n      <td>-9.78</td>\n      <td>88.0</td>\n      <td>0.0</td>\n      <td>3.02</td>\n      <td>1.584312e+09</td>\n    </tr>\n    <tr>\n      <th>1</th>\n      <td>Severnoye</td>\n      <td>RU</td>\n      <td>56.35</td>\n      <td>78.36</td>\n      <td>33.04</td>\n      <td>86.0</td>\n      <td>100.0</td>\n      <td>21.41</td>\n      <td>1.584312e+09</td>\n    </tr>\n    <tr>\n      <th>2</th>\n      <td>Port Alfred</td>\n      <td>ZA</td>\n      <td>-33.59</td>\n      <td>26.89</td>\n      <td>63.00</td>\n      <td>97.0</td>\n      <td>100.0</td>\n      <td>3.00</td>\n      <td>1.584312e+09</td>\n    </tr>\n    <tr>\n      <th>3</th>\n      <td>Cape Town</td>\n      <td>ZA</td>\n      <td>-33.93</td>\n      <td>18.42</td>\n      <td>64.99</td>\n      <td>63.0</td>\n      <td>20.0</td>\n      <td>20.80</td>\n      <td>1.584312e+09</td>\n    </tr>\n    <tr>\n      <th>4</th>\n      <td>Bud</td>\n      <td>NO</td>\n      <td>39.45</td>\n      <td>-86.18</td>\n      <td>46.00</td>\n      <td>83.0</td>\n      <td>90.0</td>\n      <td>9.17</td>\n      <td>1.584312e+09</td>\n    </tr>\n  </tbody>\n</table>\n</div>"
     },
     "metadata": {},
     "execution_count": 2
    }
   ],
   "source": [
    "#import csv\n",
    "file =\"output_data.csv\"\n",
    "wdata = pd.read_csv(file)\n",
    "#show data frame head\n",
    "wdata.head()"
   ]
  },
  {
   "cell_type": "code",
   "execution_count": 3,
   "metadata": {},
   "outputs": [
    {
     "output_type": "execute_result",
     "data": {
      "text/plain": [
       "            City Country  Latitude  Longitude  Max Temp(F)  Humidity(%)  \\\n",
       "0  Srednekolymsk      RU     67.45     153.68        -9.78         88.0   \n",
       "1      Severnoye      RU     56.35      78.36        33.04         86.0   \n",
       "2    Port Alfred      ZA    -33.59      26.89        63.00         97.0   \n",
       "3      Cape Town      ZA    -33.93      18.42        64.99         63.0   \n",
       "4            Bud      NO     39.45     -86.18        46.00         83.0   \n",
       "\n",
       "   Cloudiness(%)  Wind Speed(MPH)  \n",
       "0            0.0             3.02  \n",
       "1          100.0            21.41  \n",
       "2          100.0             3.00  \n",
       "3           20.0            20.80  \n",
       "4           90.0             9.17  "
      ],
      "text/html": "<div>\n<style scoped>\n    .dataframe tbody tr th:only-of-type {\n        vertical-align: middle;\n    }\n\n    .dataframe tbody tr th {\n        vertical-align: top;\n    }\n\n    .dataframe thead th {\n        text-align: right;\n    }\n</style>\n<table border=\"1\" class=\"dataframe\">\n  <thead>\n    <tr style=\"text-align: right;\">\n      <th></th>\n      <th>City</th>\n      <th>Country</th>\n      <th>Latitude</th>\n      <th>Longitude</th>\n      <th>Max Temp(F)</th>\n      <th>Humidity(%)</th>\n      <th>Cloudiness(%)</th>\n      <th>Wind Speed(MPH)</th>\n    </tr>\n  </thead>\n  <tbody>\n    <tr>\n      <th>0</th>\n      <td>Srednekolymsk</td>\n      <td>RU</td>\n      <td>67.45</td>\n      <td>153.68</td>\n      <td>-9.78</td>\n      <td>88.0</td>\n      <td>0.0</td>\n      <td>3.02</td>\n    </tr>\n    <tr>\n      <th>1</th>\n      <td>Severnoye</td>\n      <td>RU</td>\n      <td>56.35</td>\n      <td>78.36</td>\n      <td>33.04</td>\n      <td>86.0</td>\n      <td>100.0</td>\n      <td>21.41</td>\n    </tr>\n    <tr>\n      <th>2</th>\n      <td>Port Alfred</td>\n      <td>ZA</td>\n      <td>-33.59</td>\n      <td>26.89</td>\n      <td>63.00</td>\n      <td>97.0</td>\n      <td>100.0</td>\n      <td>3.00</td>\n    </tr>\n    <tr>\n      <th>3</th>\n      <td>Cape Town</td>\n      <td>ZA</td>\n      <td>-33.93</td>\n      <td>18.42</td>\n      <td>64.99</td>\n      <td>63.0</td>\n      <td>20.0</td>\n      <td>20.80</td>\n    </tr>\n    <tr>\n      <th>4</th>\n      <td>Bud</td>\n      <td>NO</td>\n      <td>39.45</td>\n      <td>-86.18</td>\n      <td>46.00</td>\n      <td>83.0</td>\n      <td>90.0</td>\n      <td>9.17</td>\n    </tr>\n  </tbody>\n</table>\n</div>"
     },
     "metadata": {},
     "execution_count": 3
    }
   ],
   "source": [
    "#remove \"Date\" column\n",
    "wdata.drop(\"Date\", axis=1, inplace=True)\n",
    "wdata.head()"
   ]
  },
  {
   "cell_type": "code",
   "execution_count": 4,
   "metadata": {
    "tags": [
     "outputPrepend"
    ]
   },
   "outputs": [
    {
     "output_type": "stream",
     "name": "stdout",
     "text": [
      "8</td>\n      <td>-115.95</td>\n      <td>61.45</td>\n      <td>71.0</td>\n      <td>2.0</td>\n      <td>16.13</td>\n    </tr>\n    <tr>\n      <th>463</th>\n      <td>Leeton</td>\n      <td>AU</td>\n      <td>-34.57</td>\n      <td>146.40</td>\n      <td>66.00</td>\n      <td>55.0</td>\n      <td>0.0</td>\n      <td>10.29</td>\n    </tr>\n    <tr>\n      <th>464</th>\n      <td>Kiunga</td>\n      <td>PG</td>\n      <td>-6.12</td>\n      <td>141.29</td>\n      <td>72.70</td>\n      <td>99.0</td>\n      <td>100.0</td>\n      <td>3.44</td>\n    </tr>\n    <tr>\n      <th>465</th>\n      <td>Valera</td>\n      <td>VE</td>\n      <td>9.32</td>\n      <td>-70.60</td>\n      <td>72.25</td>\n      <td>81.0</td>\n      <td>100.0</td>\n      <td>2.17</td>\n    </tr>\n    <tr>\n      <th>466</th>\n      <td>Burshtyn</td>\n      <td>UA</td>\n      <td>49.26</td>\n      <td>24.63</td>\n      <td>29.68</td>\n      <td>48.0</td>\n      <td>0.0</td>\n      <td>5.68</td>\n    </tr>\n    <tr>\n      <th>467</th>\n      <td>Bahia Blanca</td>\n      <td>AR</td>\n      <td>-38.72</td>\n      <td>-62.27</td>\n      <td>63.18</td>\n      <td>34.0</td>\n      <td>0.0</td>\n      <td>14.07</td>\n    </tr>\n    <tr>\n      <th>468</th>\n      <td>Nagornyy</td>\n      <td>RU</td>\n      <td>52.80</td>\n      <td>83.55</td>\n      <td>42.80</td>\n      <td>41.0</td>\n      <td>100.0</td>\n      <td>22.37</td>\n    </tr>\n    <tr>\n      <th>469</th>\n      <td>Trapani</td>\n      <td>IT</td>\n      <td>37.83</td>\n      <td>12.67</td>\n      <td>55.99</td>\n      <td>87.0</td>\n      <td>0.0</td>\n      <td>5.82</td>\n    </tr>\n    <tr>\n      <th>470</th>\n      <td>Montemor-O-Novo</td>\n      <td>PT</td>\n      <td>38.65</td>\n      <td>-8.21</td>\n      <td>46.99</td>\n      <td>80.0</td>\n      <td>2.0</td>\n      <td>15.43</td>\n    </tr>\n    <tr>\n      <th>471</th>\n      <td>Isla Mujeres</td>\n      <td>MX</td>\n      <td>21.23</td>\n      <td>-86.73</td>\n      <td>82.40</td>\n      <td>69.0</td>\n      <td>75.0</td>\n      <td>10.29</td>\n    </tr>\n    <tr>\n      <th>472</th>\n      <td>Lampang</td>\n      <td>TH</td>\n      <td>18.33</td>\n      <td>99.50</td>\n      <td>72.93</td>\n      <td>77.0</td>\n      <td>56.0</td>\n      <td>0.67</td>\n    </tr>\n    <tr>\n      <th>473</th>\n      <td>Mangan</td>\n      <td>IN</td>\n      <td>27.52</td>\n      <td>88.53</td>\n      <td>37.13</td>\n      <td>44.0</td>\n      <td>18.0</td>\n      <td>9.19</td>\n    </tr>\n    <tr>\n      <th>474</th>\n      <td>Rudnichnyy</td>\n      <td>RU</td>\n      <td>59.62</td>\n      <td>52.47</td>\n      <td>9.55</td>\n      <td>96.0</td>\n      <td>14.0</td>\n      <td>2.73</td>\n    </tr>\n    <tr>\n      <th>475</th>\n      <td>Sobolevo</td>\n      <td>RU</td>\n      <td>54.43</td>\n      <td>31.90</td>\n      <td>27.00</td>\n      <td>76.0</td>\n      <td>0.0</td>\n      <td>5.08</td>\n    </tr>\n    <tr>\n      <th>476</th>\n      <td>Lokosovo</td>\n      <td>RU</td>\n      <td>61.13</td>\n      <td>74.82</td>\n      <td>30.15</td>\n      <td>96.0</td>\n      <td>100.0</td>\n      <td>15.43</td>\n    </tr>\n    <tr>\n      <th>477</th>\n      <td>Leningradskiy</td>\n      <td>RU</td>\n      <td>69.38</td>\n      <td>178.42</td>\n      <td>15.10</td>\n      <td>72.0</td>\n      <td>25.0</td>\n      <td>5.57</td>\n    </tr>\n    <tr>\n      <th>478</th>\n      <td>Munkebo</td>\n      <td>DK</td>\n      <td>55.46</td>\n      <td>10.56</td>\n      <td>45.54</td>\n      <td>81.0</td>\n      <td>99.0</td>\n      <td>16.22</td>\n    </tr>\n    <tr>\n      <th>479</th>\n      <td>Mayo</td>\n      <td>CA</td>\n      <td>38.89</td>\n      <td>-76.51</td>\n      <td>52.00</td>\n      <td>62.0</td>\n      <td>75.0</td>\n      <td>3.02</td>\n    </tr>\n    <tr>\n      <th>480</th>\n      <td>Solaro</td>\n      <td>IT</td>\n      <td>44.88</td>\n      <td>9.17</td>\n      <td>51.80</td>\n      <td>53.0</td>\n      <td>0.0</td>\n      <td>8.05</td>\n    </tr>\n    <tr>\n      <th>481</th>\n      <td>Lata</td>\n      <td>SB</td>\n      <td>40.16</td>\n      <td>-8.33</td>\n      <td>52.00</td>\n      <td>84.0</td>\n      <td>19.0</td>\n      <td>3.96</td>\n    </tr>\n    <tr>\n      <th>482</th>\n      <td>Villanueva De La Serena</td>\n      <td>ES</td>\n      <td>38.98</td>\n      <td>-5.80</td>\n      <td>48.00</td>\n      <td>71.0</td>\n      <td>2.0</td>\n      <td>8.01</td>\n    </tr>\n    <tr>\n      <th>483</th>\n      <td>Shihezi</td>\n      <td>CN</td>\n      <td>44.30</td>\n      <td>86.03</td>\n      <td>36.18</td>\n      <td>51.0</td>\n      <td>0.0</td>\n      <td>0.85</td>\n    </tr>\n    <tr>\n      <th>484</th>\n      <td>Rabaul</td>\n      <td>PG</td>\n      <td>-4.20</td>\n      <td>152.17</td>\n      <td>83.66</td>\n      <td>71.0</td>\n      <td>98.0</td>\n      <td>7.25</td>\n    </tr>\n    <tr>\n      <th>485</th>\n      <td>Taman</td>\n      <td>RU</td>\n      <td>45.21</td>\n      <td>36.72</td>\n      <td>33.80</td>\n      <td>55.0</td>\n      <td>40.0</td>\n      <td>11.18</td>\n    </tr>\n    <tr>\n      <th>486</th>\n      <td>Maniitsoq</td>\n      <td>GL</td>\n      <td>65.42</td>\n      <td>-52.90</td>\n      <td>0.77</td>\n      <td>67.0</td>\n      <td>38.0</td>\n      <td>10.60</td>\n    </tr>\n    <tr>\n      <th>487</th>\n      <td>Abrego</td>\n      <td>CO</td>\n      <td>8.08</td>\n      <td>-73.22</td>\n      <td>57.40</td>\n      <td>97.0</td>\n      <td>100.0</td>\n      <td>2.89</td>\n    </tr>\n    <tr>\n      <th>488</th>\n      <td>Tagusao</td>\n      <td>PH</td>\n      <td>9.19</td>\n      <td>117.81</td>\n      <td>78.44</td>\n      <td>72.0</td>\n      <td>0.0</td>\n      <td>3.65</td>\n    </tr>\n    <tr>\n      <th>489</th>\n      <td>Redlands</td>\n      <td>US</td>\n      <td>34.06</td>\n      <td>-117.18</td>\n      <td>75.20</td>\n      <td>67.0</td>\n      <td>90.0</td>\n      <td>6.06</td>\n    </tr>\n    <tr>\n      <th>490</th>\n      <td>Oussouye</td>\n      <td>SN</td>\n      <td>12.48</td>\n      <td>-16.55</td>\n      <td>74.25</td>\n      <td>52.0</td>\n      <td>88.0</td>\n      <td>9.84</td>\n    </tr>\n    <tr>\n      <th>491</th>\n      <td>Svetlogorsk</td>\n      <td>RU</td>\n      <td>52.63</td>\n      <td>29.73</td>\n      <td>28.81</td>\n      <td>59.0</td>\n      <td>0.0</td>\n      <td>5.23</td>\n    </tr>\n    <tr>\n      <th>492</th>\n      <td>Batagay</td>\n      <td>RU</td>\n      <td>67.63</td>\n      <td>134.63</td>\n      <td>-12.33</td>\n      <td>82.0</td>\n      <td>10.0</td>\n      <td>4.56</td>\n    </tr>\n    <tr>\n      <th>493</th>\n      <td>Carutapera</td>\n      <td>BR</td>\n      <td>-1.20</td>\n      <td>-46.02</td>\n      <td>76.91</td>\n      <td>89.0</td>\n      <td>100.0</td>\n      <td>9.82</td>\n    </tr>\n    <tr>\n      <th>494</th>\n      <td>Luancheng</td>\n      <td>CN</td>\n      <td>37.88</td>\n      <td>114.65</td>\n      <td>35.60</td>\n      <td>80.0</td>\n      <td>98.0</td>\n      <td>2.24</td>\n    </tr>\n    <tr>\n      <th>495</th>\n      <td>Saint-Augustin</td>\n      <td>CA</td>\n      <td>51.23</td>\n      <td>-58.65</td>\n      <td>16.29</td>\n      <td>71.0</td>\n      <td>100.0</td>\n      <td>17.20</td>\n    </tr>\n    <tr>\n      <th>496</th>\n      <td>Santa Marta</td>\n      <td>CO</td>\n      <td>11.24</td>\n      <td>-74.20</td>\n      <td>91.99</td>\n      <td>52.0</td>\n      <td>20.0</td>\n      <td>19.46</td>\n    </tr>\n    <tr>\n      <th>497</th>\n      <td>Tsukumi</td>\n      <td>JP</td>\n      <td>33.07</td>\n      <td>131.86</td>\n      <td>41.00</td>\n      <td>75.0</td>\n      <td>20.0</td>\n      <td>10.29</td>\n    </tr>\n    <tr>\n      <th>498</th>\n      <td>Havelock</td>\n      <td>US</td>\n      <td>34.88</td>\n      <td>-76.90</td>\n      <td>52.00</td>\n      <td>93.0</td>\n      <td>90.0</td>\n      <td>14.99</td>\n    </tr>\n    <tr>\n      <th>499</th>\n      <td>Fremont</td>\n      <td>US</td>\n      <td>37.55</td>\n      <td>-121.99</td>\n      <td>55.40</td>\n      <td>66.0</td>\n      <td>75.0</td>\n      <td>10.29</td>\n    </tr>\n    <tr>\n      <th>500</th>\n      <td>Quelimane</td>\n      <td>MZ</td>\n      <td>-17.88</td>\n      <td>36.89</td>\n      <td>78.80</td>\n      <td>88.0</td>\n      <td>40.0</td>\n      <td>2.71</td>\n    </tr>\n    <tr>\n      <th>501</th>\n      <td>Vagur</td>\n      <td>FO</td>\n      <td>61.47</td>\n      <td>-6.81</td>\n      <td>37.33</td>\n      <td>69.0</td>\n      <td>79.0</td>\n      <td>17.74</td>\n    </tr>\n    <tr>\n      <th>502</th>\n      <td>Shevchenkove</td>\n      <td>UA</td>\n      <td>49.70</td>\n      <td>37.17</td>\n      <td>26.60</td>\n      <td>79.0</td>\n      <td>33.0</td>\n      <td>4.47</td>\n    </tr>\n    <tr>\n      <th>503</th>\n      <td>Bairiki</td>\n      <td>KI</td>\n      <td>1.33</td>\n      <td>172.98</td>\n      <td>87.80</td>\n      <td>70.0</td>\n      <td>20.0</td>\n      <td>9.17</td>\n    </tr>\n    <tr>\n      <th>504</th>\n      <td>Dingle</td>\n      <td>IE</td>\n      <td>11.00</td>\n      <td>122.67</td>\n      <td>76.51</td>\n      <td>74.0</td>\n      <td>0.0</td>\n      <td>10.18</td>\n    </tr>\n    <tr>\n      <th>505</th>\n      <td>Sinnamary</td>\n      <td>GF</td>\n      <td>5.38</td>\n      <td>-52.95</td>\n      <td>79.88</td>\n      <td>77.0</td>\n      <td>45.0</td>\n      <td>16.13</td>\n    </tr>\n    <tr>\n      <th>506</th>\n      <td>Morgan City</td>\n      <td>US</td>\n      <td>29.70</td>\n      <td>-91.21</td>\n      <td>84.20</td>\n      <td>42.0</td>\n      <td>1.0</td>\n      <td>3.36</td>\n    </tr>\n    <tr>\n      <th>507</th>\n      <td>Fort Nelson</td>\n      <td>CA</td>\n      <td>58.81</td>\n      <td>-122.70</td>\n      <td>32.00</td>\n      <td>87.0</td>\n      <td>20.0</td>\n      <td>3.36</td>\n    </tr>\n    <tr>\n      <th>508</th>\n      <td>Samsun</td>\n      <td>TR</td>\n      <td>41.25</td>\n      <td>36.33</td>\n      <td>42.80</td>\n      <td>81.0</td>\n      <td>90.0</td>\n      <td>10.29</td>\n    </tr>\n    <tr>\n      <th>509</th>\n      <td>Usta Muhammad</td>\n      <td>PK</td>\n      <td>28.18</td>\n      <td>68.04</td>\n      <td>69.08</td>\n      <td>37.0</td>\n      <td>84.0</td>\n      <td>4.29</td>\n    </tr>\n    <tr>\n      <th>510</th>\n      <td>Samarai</td>\n      <td>PG</td>\n      <td>-10.62</td>\n      <td>150.67</td>\n      <td>86.31</td>\n      <td>58.0</td>\n      <td>5.0</td>\n      <td>4.59</td>\n    </tr>\n    <tr>\n      <th>511</th>\n      <td>Paoua</td>\n      <td>CF</td>\n      <td>7.24</td>\n      <td>16.44</td>\n      <td>70.72</td>\n      <td>18.0</td>\n      <td>66.0</td>\n      <td>4.34</td>\n    </tr>\n    <tr>\n      <th>512</th>\n      <td>Abha</td>\n      <td>SA</td>\n      <td>18.22</td>\n      <td>42.51</td>\n      <td>59.00</td>\n      <td>87.0</td>\n      <td>14.0</td>\n      <td>4.70</td>\n    </tr>\n    <tr>\n      <th>513</th>\n      <td>Wiang Sa</td>\n      <td>TH</td>\n      <td>8.64</td>\n      <td>99.37</td>\n      <td>75.20</td>\n      <td>100.0</td>\n      <td>20.0</td>\n      <td>3.36</td>\n    </tr>\n    <tr>\n      <th>514</th>\n      <td>Bosaso</td>\n      <td>SO</td>\n      <td>11.28</td>\n      <td>49.18</td>\n      <td>77.31</td>\n      <td>85.0</td>\n      <td>14.0</td>\n      <td>12.71</td>\n    </tr>\n    <tr>\n      <th>515</th>\n      <td>Kiruna</td>\n      <td>SE</td>\n      <td>67.86</td>\n      <td>20.23</td>\n      <td>21.20</td>\n      <td>92.0</td>\n      <td>100.0</td>\n      <td>2.24</td>\n    </tr>\n    <tr>\n      <th>516</th>\n      <td>Pinheiro Machado</td>\n      <td>BR</td>\n      <td>-31.58</td>\n      <td>-53.38</td>\n      <td>64.99</td>\n      <td>94.0</td>\n      <td>100.0</td>\n      <td>3.00</td>\n    </tr>\n    <tr>\n      <th>517</th>\n      <td>Teguise</td>\n      <td>ES</td>\n      <td>29.06</td>\n      <td>-13.56</td>\n      <td>64.40</td>\n      <td>72.0</td>\n      <td>40.0</td>\n      <td>14.99</td>\n    </tr>\n    <tr>\n      <th>518</th>\n      <td>San Vicente</td>\n      <td>PH</td>\n      <td>-26.62</td>\n      <td>-54.13</td>\n      <td>78.10</td>\n      <td>53.0</td>\n      <td>82.0</td>\n      <td>5.28</td>\n    </tr>\n    <tr>\n      <th>519</th>\n      <td>Valley City</td>\n      <td>US</td>\n      <td>46.92</td>\n      <td>-98.00</td>\n      <td>32.00</td>\n      <td>96.0</td>\n      <td>90.0</td>\n      <td>10.29</td>\n    </tr>\n    <tr>\n      <th>520</th>\n      <td>Platanos</td>\n      <td>GR</td>\n      <td>37.67</td>\n      <td>21.62</td>\n      <td>57.20</td>\n      <td>82.0</td>\n      <td>75.0</td>\n      <td>6.93</td>\n    </tr>\n    <tr>\n      <th>521</th>\n      <td>Baruun-Urt</td>\n      <td>MN</td>\n      <td>46.68</td>\n      <td>113.28</td>\n      <td>23.05</td>\n      <td>81.0</td>\n      <td>51.0</td>\n      <td>12.73</td>\n    </tr>\n    <tr>\n      <th>522</th>\n      <td>Neyvo-Shaytanskiy</td>\n      <td>RU</td>\n      <td>57.73</td>\n      <td>61.25</td>\n      <td>24.39</td>\n      <td>93.0</td>\n      <td>25.0</td>\n      <td>3.56</td>\n    </tr>\n    <tr>\n      <th>523</th>\n      <td>Zhangye</td>\n      <td>CN</td>\n      <td>38.93</td>\n      <td>100.45</td>\n      <td>38.70</td>\n      <td>36.0</td>\n      <td>100.0</td>\n      <td>2.62</td>\n    </tr>\n    <tr>\n      <th>524</th>\n      <td>Gawler</td>\n      <td>AU</td>\n      <td>-34.60</td>\n      <td>138.73</td>\n      <td>70.00</td>\n      <td>45.0</td>\n      <td>20.0</td>\n      <td>9.17</td>\n    </tr>\n    <tr>\n      <th>525</th>\n      <td>Katherine</td>\n      <td>AU</td>\n      <td>-14.47</td>\n      <td>132.27</td>\n      <td>73.40</td>\n      <td>83.0</td>\n      <td>4.0</td>\n      <td>0.89</td>\n    </tr>\n    <tr>\n      <th>526</th>\n      <td>Brooks</td>\n      <td>CA</td>\n      <td>50.58</td>\n      <td>-111.89</td>\n      <td>9.00</td>\n      <td>68.0</td>\n      <td>52.0</td>\n      <td>4.16</td>\n    </tr>\n    <tr>\n      <th>527</th>\n      <td>Vila Velha</td>\n      <td>BR</td>\n      <td>-20.33</td>\n      <td>-40.29</td>\n      <td>80.60</td>\n      <td>78.0</td>\n      <td>20.0</td>\n      <td>4.70</td>\n    </tr>\n    <tr>\n      <th>528</th>\n      <td>Kaoma</td>\n      <td>ZM</td>\n      <td>-14.78</td>\n      <td>24.80</td>\n      <td>65.95</td>\n      <td>96.0</td>\n      <td>100.0</td>\n      <td>1.88</td>\n    </tr>\n    <tr>\n      <th>529</th>\n      <td>Antalaha</td>\n      <td>MG</td>\n      <td>-14.90</td>\n      <td>50.28</td>\n      <td>80.62</td>\n      <td>79.0</td>\n      <td>100.0</td>\n      <td>12.71</td>\n    </tr>\n    <tr>\n      <th>530</th>\n      <td>Buluang</td>\n      <td>PH</td>\n      <td>13.31</td>\n      <td>123.34</td>\n      <td>78.93</td>\n      <td>71.0</td>\n      <td>0.0</td>\n      <td>2.46</td>\n    </tr>\n    <tr>\n      <th>531</th>\n      <td>Portland</td>\n      <td>AU</td>\n      <td>45.52</td>\n      <td>-122.68</td>\n      <td>50.00</td>\n      <td>42.0</td>\n      <td>20.0</td>\n      <td>25.28</td>\n    </tr>\n    <tr>\n      <th>532</th>\n      <td>Walvis Bay</td>\n      <td>NaN</td>\n      <td>-22.96</td>\n      <td>14.51</td>\n      <td>62.01</td>\n      <td>93.0</td>\n      <td>8.0</td>\n      <td>8.05</td>\n    </tr>\n    <tr>\n      <th>533</th>\n      <td>Muravlenko</td>\n      <td>RU</td>\n      <td>63.79</td>\n      <td>74.52</td>\n      <td>-5.22</td>\n      <td>88.0</td>\n      <td>100.0</td>\n      <td>15.57</td>\n    </tr>\n    <tr>\n      <th>534</th>\n      <td>Flinders</td>\n      <td>AU</td>\n      <td>-34.58</td>\n      <td>150.86</td>\n      <td>66.00</td>\n      <td>100.0</td>\n      <td>75.0</td>\n      <td>11.41</td>\n    </tr>\n    <tr>\n      <th>535</th>\n      <td>Okato</td>\n      <td>NZ</td>\n      <td>-39.20</td>\n      <td>173.88</td>\n      <td>66.00</td>\n      <td>66.0</td>\n      <td>100.0</td>\n      <td>1.99</td>\n    </tr>\n    <tr>\n      <th>536</th>\n      <td>Quimper</td>\n      <td>FR</td>\n      <td>48.00</td>\n      <td>-4.10</td>\n      <td>45.00</td>\n      <td>87.0</td>\n      <td>20.0</td>\n      <td>8.05</td>\n    </tr>\n    <tr>\n      <th>537</th>\n      <td>Stromness</td>\n      <td>GB</td>\n      <td>58.97</td>\n      <td>-3.30</td>\n      <td>37.00</td>\n      <td>69.0</td>\n      <td>91.0</td>\n      <td>8.05</td>\n    </tr>\n    <tr>\n      <th>538</th>\n      <td>San Patricio</td>\n      <td>MX</td>\n      <td>19.22</td>\n      <td>-104.70</td>\n      <td>86.00</td>\n      <td>74.0</td>\n      <td>20.0</td>\n      <td>11.41</td>\n    </tr>\n    <tr>\n      <th>539</th>\n      <td>Kyshtovka</td>\n      <td>RU</td>\n      <td>56.55</td>\n      <td>76.63</td>\n      <td>31.60</td>\n      <td>93.0</td>\n      <td>100.0</td>\n      <td>26.66</td>\n    </tr>\n    <tr>\n      <th>540</th>\n      <td>Rochefort</td>\n      <td>FR</td>\n      <td>45.92</td>\n      <td>-1.00</td>\n      <td>51.80</td>\n      <td>87.0</td>\n      <td>80.0</td>\n      <td>4.70</td>\n    </tr>\n    <tr>\n      <th>541</th>\n      <td>Wegrow</td>\n      <td>PL</td>\n      <td>52.40</td>\n      <td>22.02</td>\n      <td>34.00</td>\n      <td>57.0</td>\n      <td>63.0</td>\n      <td>13.35</td>\n    </tr>\n    <tr>\n      <th>542</th>\n      <td>Yar-Sale</td>\n      <td>RU</td>\n      <td>66.83</td>\n      <td>70.83</td>\n      <td>-12.68</td>\n      <td>99.0</td>\n      <td>8.0</td>\n      <td>3.27</td>\n    </tr>\n    <tr>\n      <th>543</th>\n      <td>Vila Franca Do Campo</td>\n      <td>PT</td>\n      <td>37.72</td>\n      <td>-25.43</td>\n      <td>53.60</td>\n      <td>81.0</td>\n      <td>20.0</td>\n      <td>4.70</td>\n    </tr>\n    <tr>\n      <th>544</th>\n      <td>Santa Isabel Do Rio Negro</td>\n      <td>BR</td>\n      <td>-0.41</td>\n      <td>-65.02</td>\n      <td>76.80</td>\n      <td>95.0</td>\n      <td>100.0</td>\n      <td>2.68</td>\n    </tr>\n    <tr>\n      <th>545</th>\n      <td>Antofagasta</td>\n      <td>CL</td>\n      <td>-23.65</td>\n      <td>-70.40</td>\n      <td>68.00</td>\n      <td>72.0</td>\n      <td>20.0</td>\n      <td>12.75</td>\n    </tr>\n    <tr>\n      <th>546</th>\n      <td>Nauta</td>\n      <td>PE</td>\n      <td>-4.51</td>\n      <td>-73.58</td>\n      <td>78.51</td>\n      <td>86.0</td>\n      <td>97.0</td>\n      <td>2.62</td>\n    </tr>\n    <tr>\n      <th>547</th>\n      <td>Prata</td>\n      <td>BR</td>\n      <td>-19.31</td>\n      <td>-48.92</td>\n      <td>72.66</td>\n      <td>85.0</td>\n      <td>39.0</td>\n      <td>4.81</td>\n    </tr>\n    <tr>\n      <th>548</th>\n      <td>Pathein</td>\n      <td>MM</td>\n      <td>16.78</td>\n      <td>94.73</td>\n      <td>75.60</td>\n      <td>83.0</td>\n      <td>96.0</td>\n      <td>6.51</td>\n    </tr>\n    <tr>\n      <th>549</th>\n      <td>Kirakira</td>\n      <td>SB</td>\n      <td>-10.45</td>\n      <td>161.92</td>\n      <td>79.21</td>\n      <td>86.0</td>\n      <td>100.0</td>\n      <td>7.87</td>\n    </tr>\n    <tr>\n      <th>550</th>\n      <td>Isiro</td>\n      <td>CD</td>\n      <td>2.77</td>\n      <td>27.62</td>\n      <td>68.68</td>\n      <td>94.0</td>\n      <td>73.0</td>\n      <td>3.49</td>\n    </tr>\n    <tr>\n      <th>551</th>\n      <td>Astana</td>\n      <td>KZ</td>\n      <td>51.18</td>\n      <td>71.45</td>\n      <td>35.60</td>\n      <td>99.0</td>\n      <td>90.0</td>\n      <td>6.71</td>\n    </tr>\n    <tr>\n      <th>552</th>\n      <td>Gornozavodsk</td>\n      <td>RU</td>\n      <td>58.38</td>\n      <td>58.32</td>\n      <td>14.41</td>\n      <td>95.0</td>\n      <td>16.0</td>\n      <td>2.46</td>\n    </tr>\n    <tr>\n      <th>553</th>\n      <td>Chokwe</td>\n      <td>MZ</td>\n      <td>-24.53</td>\n      <td>32.98</td>\n      <td>73.96</td>\n      <td>92.0</td>\n      <td>11.0</td>\n      <td>5.41</td>\n    </tr>\n    <tr>\n      <th>554</th>\n      <td>Khuzdar</td>\n      <td>PK</td>\n      <td>27.74</td>\n      <td>66.64</td>\n      <td>52.68</td>\n      <td>36.0</td>\n      <td>66.0</td>\n      <td>2.80</td>\n    </tr>\n    <tr>\n      <th>555</th>\n      <td>Freeport</td>\n      <td>BS</td>\n      <td>40.66</td>\n      <td>-73.58</td>\n      <td>53.60</td>\n      <td>20.0</td>\n      <td>1.0</td>\n      <td>6.93</td>\n    </tr>\n    <tr>\n      <th>556</th>\n      <td>Concordia</td>\n      <td>MX</td>\n      <td>-31.39</td>\n      <td>-58.02</td>\n      <td>70.00</td>\n      <td>95.0</td>\n      <td>95.0</td>\n      <td>5.99</td>\n    </tr>\n    <tr>\n      <th>557</th>\n      <td>Springdale</td>\n      <td>US</td>\n      <td>36.19</td>\n      <td>-94.13</td>\n      <td>48.20</td>\n      <td>100.0</td>\n      <td>90.0</td>\n      <td>5.82</td>\n    </tr>\n    <tr>\n      <th>558</th>\n      <td>San Cristobal</td>\n      <td>EC</td>\n      <td>7.77</td>\n      <td>-72.22</td>\n      <td>82.40</td>\n      <td>58.0</td>\n      <td>20.0</td>\n      <td>5.82</td>\n    </tr>\n    <tr>\n      <th>559</th>\n      <td>Ucluelet</td>\n      <td>CA</td>\n      <td>48.93</td>\n      <td>-125.55</td>\n      <td>48.99</td>\n      <td>33.0</td>\n      <td>5.0</td>\n      <td>6.93</td>\n    </tr>\n  </tbody>\n</table>\n"
     ]
    }
   ],
   "source": [
    "#render dataframe as html\n",
    "html = wdata.to_html()\n",
    "#test print to verify output before proceeding\n",
    "print(html)"
   ]
  },
  {
   "cell_type": "code",
   "execution_count": 5,
   "metadata": {},
   "outputs": [],
   "source": [
    "#write html to file\n",
    "text_file = open(\"weather_table.html\", \"w\")\n",
    "text_file.write(html)\n",
    "text_file.close()"
   ]
  },
  {
   "cell_type": "code",
   "execution_count": null,
   "metadata": {},
   "outputs": [],
   "source": []
  }
 ],
 "metadata": {
  "kernelspec": {
   "display_name": "Python 3.7.4 64-bit ('base': conda)",
   "language": "python",
   "name": "python37464bitbasecondac6f1fed7da40427ba8d315f08c07b158"
  },
  "language_info": {
   "codemirror_mode": {
    "name": "ipython",
    "version": 3
   },
   "file_extension": ".py",
   "mimetype": "text/x-python",
   "name": "python",
   "nbconvert_exporter": "python",
   "pygments_lexer": "ipython3",
   "version": "3.7.7-final"
  }
 },
 "nbformat": 4,
 "nbformat_minor": 2
}